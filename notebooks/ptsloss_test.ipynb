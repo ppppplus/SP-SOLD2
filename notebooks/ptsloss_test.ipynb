{
 "cells": [
  {
   "cell_type": "code",
   "execution_count": 31,
   "metadata": {},
   "outputs": [
    {
     "name": "stdout",
     "output_type": "stream",
     "text": [
      "(3, 341) (1, 256, 64, 64)\n"
     ]
    }
   ],
   "source": [
    "import numpy as np\n",
    "\n",
    "img = np.load(\"/home/nics/Work/sp-sold2/assets/img/img_origin.npy\")\n",
    "warped_img = np.load(\"/home/nics/Work/sp-sold2/assets/img/img_warped.npy\")\n",
    "pts = np.load(\"/home/nics/Work/sp-sold2/assets/img/points_origin.npy\")\n",
    "warped_pts = np.load(\"/home/nics/Work/sp-sold2/assets/img/points_warped.npy\")\n",
    "h = np.load(\"/home/nics/Work/sp-sold2/assets/img/homo.npy\")\n",
    "from utils.superpoint import SuperPointFrontend\n",
    "from skimage import color \n",
    "# print(warped_img.shape)\n",
    "weights_path = \"/home/nics/Work/SuperPointPretrainedNetwork/superpoint_v1.pth\"\n",
    "nms_dist = 4\n",
    "conf_thresh = 0.015\n",
    "nn_thresh = 0.7\n",
    "cuda = True\n",
    "fe = SuperPointFrontend(weights_path=weights_path,\n",
    "                          nms_dist=nms_dist,\n",
    "                          conf_thresh=conf_thresh,\n",
    "                          nn_thresh=nn_thresh,\n",
    "                          cuda=cuda)\n",
    "grayim1 = color.rgb2gray(img).astype(np.float32)\n",
    "grayim2 = warped_img\n",
    "# print(grayim2.shape)\n",
    "# print(grayim.shape)\n",
    "pts1, desc1, _ = fe.run(grayim1)\n",
    "pts2, desc2, _ = fe.run(grayim2)\n",
    "print(pts2.shape, desc2.shape)"
   ]
  },
  {
   "cell_type": "code",
   "execution_count": 47,
   "metadata": {},
   "outputs": [
    {
     "data": {
      "text/plain": [
       "<matplotlib.image.AxesImage at 0x7f8942486640>"
      ]
     },
     "execution_count": 47,
     "metadata": {},
     "output_type": "execute_result"
    },
    {
     "data": {
      "image/png": "[encoded data removed]",
      "text/plain": [
       "<Figure size 640x480 with 1 Axes>"
      ]
     },
     "metadata": {},
     "output_type": "display_data"
    }
   ],
   "source": [
    "import matplotlib.pyplot as plt\n",
    "img2 = np.load(\"/home/nics/Work/sp-sold2/assets/img/valid_mask2.npy\")\n",
    "plt.imshow(img2)\n"
   ]
  },
  {
   "cell_type": "code",
   "execution_count": 44,
   "metadata": {},
   "outputs": [
    {
     "ename": "ImportError",
     "evalue": "attempted relative import with no known parent package",
     "output_type": "error",
     "traceback": [
      "\u001b[0;31m---------------------------------------------------------------------------\u001b[0m",
      "\u001b[0;31mImportError\u001b[0m                               Traceback (most recent call last)",
      "Cell \u001b[0;32mIn[44], line 1\u001b[0m\n\u001b[0;32m----> 1\u001b[0m \u001b[39mfrom\u001b[39;00m \u001b[39m.\u001b[39;00m\u001b[39m.\u001b[39;00m\u001b[39msold2\u001b[39;00m\u001b[39m.\u001b[39;00m\u001b[39mmisc\u001b[39;00m\u001b[39m.\u001b[39;00m\u001b[39mvisualize_util\u001b[39;00m \u001b[39mimport\u001b[39;00m plot_images, plot_lines, plot_line_matches, plot_color_line_matches, plot_keypoints, plot_line_segments_from_segments\n\u001b[1;32m      3\u001b[0m \u001b[39mdef\u001b[39;00m \u001b[39mplot_pts\u001b[39m(pts_list, indices\u001b[39m=\u001b[39m[\u001b[39m0\u001b[39m]):\n\u001b[1;32m      4\u001b[0m     fig \u001b[39m=\u001b[39m plt\u001b[39m.\u001b[39mgcf()\n",
      "\u001b[0;31mImportError\u001b[0m: attempted relative import with no known parent package"
     ]
    }
   ],
   "source": [
    "from sold2.misc.visualize_util import plot_images, plot_lines, plot_line_matches, plot_color_line_matches, plot_keypoints, plot_line_segments_from_segments\n",
    "\n",
    "def plot_pts(pts_list, indices=[0]):\n",
    "    fig = plt.gcf()\n",
    "    ax = fig.axes\n",
    "    # print(len(ax), max(indices))\n",
    "    # assert len(ax) > max(indices)\n",
    "    axes = [ax[i] for i in indices]\n",
    "    fig.canvas.draw()\n",
    "\n",
    "    # Plot the lines and junctions\n",
    "    for a, pts in zip(axes, pts_list):\n",
    "        for i in range(pts.shape[1]):\n",
    "            # print(pts[:,i])\n",
    "            # p = pts[:, i]\n",
    "            a.scatter(pts[0,i], pts[1,i], color=\"red\", s=0.8)\n",
    "valid_mask = np.load(\"/home/nics/Work/sp-sold2/assets/img/valid_mask.npy\")\n",
    "cells = np.load(\"/home/nics/Work/sp-sold2/assets/img/cells_warped.npy\")\n",
    "# print(valid_mask[300])\n",
    "# mask_img = warped_img.copy()\n",
    "# mask_img[valid_mask] = 255\n",
    "# plt.imshow(valid_mask)\n",
    "plot_images([valid_mask], ['valid_mask'])\n"
   ]
  },
  {
   "cell_type": "code",
   "execution_count": 32,
   "metadata": {},
   "outputs": [
    {
     "name": "stdout",
     "output_type": "stream",
     "text": [
      "(1, 64, 64, 256)\n"
     ]
    }
   ],
   "source": [
    "margin_pos = 1.\n",
    "margin_neg = 0.2\n",
    "desc1 = desc1.transpose(0, 2, 3, 1)\n",
    "print(desc1.shape)\n",
    "# descriptors = descriptors.view((batch_size, Hc, Wc, 1, 1, -1))\n",
    "desc2 = desc2.transpose(0,2,3,1)"
   ]
  },
  {
   "cell_type": "code",
   "execution_count": 24,
   "metadata": {},
   "outputs": [
    {
     "name": "stdout",
     "output_type": "stream",
     "text": [
      "(1, 64, 64)\n"
     ]
    }
   ],
   "source": [
    "\n",
    "# descriptors_warped = descriptors_warped.view((batch_size, 1, 1, Hc, Wc, -1))\n",
    "dot_product_desc = desc1 * desc2\n",
    "dot_product_desc = dot_product_desc.sum(axis=-1)\n",
    "print(dot_product_desc.shape)\n",
    "pos_loss = margin_pos - dot_product_desc\n",
    "neg_loss = dot_product_desc - margin_neg\n",
    "positive_dist = np.maximum(pos_loss, 0)\n",
    "negative_dist = np.maximum(neg_loss, 0)\n",
    "# positive_dist = max(margin_pos - dot_product_desc, np.array(0.))\n",
    "# positive_dist[positive_dist < 0] = 0\n",
    "# negative_dist = max(dot_product_desc - margin_neg, np.array(0.))"
   ]
  },
  {
   "cell_type": "code",
   "execution_count": 27,
   "metadata": {},
   "outputs": [
    {
     "data": {
      "text/plain": [
       "0.31603473"
      ]
     },
     "execution_count": 27,
     "metadata": {},
     "output_type": "execute_result"
    }
   ],
   "source": [
    "np.min(positive_dist)"
   ]
  },
  {
   "cell_type": "code",
   "execution_count": 54,
   "metadata": {},
   "outputs": [
    {
     "name": "stdout",
     "output_type": "stream",
     "text": [
      "tensor(60296.5977, device='cuda:0')\n"
     ]
    }
   ],
   "source": [
    "import torch\n",
    "def warp_points(points, homographies, device='cpu'):\n",
    "    \"\"\"\n",
    "    Warp a list of points with the given homography.\n",
    "\n",
    "    Arguments:\n",
    "        points: list of N points, shape (N, 2(x, y))).\n",
    "        homography: batched or not (shapes (B, 3, 3) and (...) respectively).\n",
    "\n",
    "    Returns: a Tensor of shape (N, 2) or (B, N, 2(x, y)) (depending on whether the homography\n",
    "            is batched) containing the new coordinates of the warped points.\n",
    "\n",
    "    \"\"\"\n",
    "    # expand points len to (x, y, 1)\n",
    "    no_batches = len(homographies.shape) == 2\n",
    "    homographies = homographies.unsqueeze(0) if no_batches else homographies\n",
    "    # homographies = homographies.unsqueeze(0) if len(homographies.shape) == 2 else homographies\n",
    "    batch_size = homographies.shape[0]\n",
    "    points = torch.cat((points.float(), torch.ones((points.shape[0], 1)).to(device)), dim=1)\n",
    "    points = points.to(device)\n",
    "    homographies = homographies.view(batch_size*3,3).float()\n",
    "    # warped_points = homographies*points\n",
    "    # points = points.double()\n",
    "    warped_points = homographies@points.transpose(0,1)\n",
    "    # warped_points = np.tensordot(homographies, points.transpose(), axes=([2], [0]))\n",
    "    # normalize the points\n",
    "    warped_points = warped_points.view([batch_size, 3, -1])\n",
    "    warped_points = warped_points.transpose(2, 1)\n",
    "    warped_points = warped_points[:, :, :2] / warped_points[:, :, 2:]\n",
    "    return warped_points[0,:,:] if no_batches else warped_points\n",
    "\n",
    "def normPts(pts, shape):\n",
    "    \"\"\"\n",
    "    normalize pts to [-1, 1]\n",
    "    :param pts:\n",
    "        tensor (y, x)\n",
    "    :param shape:\n",
    "        tensor shape (y, x)\n",
    "    :return:\n",
    "    \"\"\"\n",
    "    pts = pts/shape*2 - 1\n",
    "    return pts\n",
    "\n",
    "def denormPts(pts, shape):\n",
    "    \"\"\"\n",
    "    denormalize pts back to H, W\n",
    "    :param pts:\n",
    "        tensor (y, x)\n",
    "    :param shape:\n",
    "        numpy (y, x)\n",
    "    :return:\n",
    "    \"\"\"\n",
    "    pts = (pts+1)*shape/2\n",
    "    return pts\n",
    "h = np.load(\"/home/nics/Work/sp-sold2/assets/img/homo.npy\")\n",
    "\n",
    "# put to gpu\n",
    "device = \"cuda\"\n",
    "homographies = torch.from_numpy(h).to(device)\n",
    "# config\n",
    "# from utils.utils import warp_points\n",
    "lamda_d = 250 # 250\n",
    "margin_pos = 1\n",
    "margin_neg = 0.2\n",
    "cell_size = 8\n",
    "Hc = 64\n",
    "Wc = 64\n",
    "# batch_size, Hc, Wc = descriptors.shape[0], descriptors.shape[2], descriptors.shape[3]\n",
    "#####\n",
    "# H, W = Hc.numpy().astype(int) * cell_size, Wc.numpy().astype(int) * cell_size\n",
    "H, W = Hc * cell_size, Wc * cell_size\n",
    "#####\n",
    "with torch.no_grad():\n",
    "    # shape = torch.tensor(list(descriptors.shape[2:]))*torch.tensor([cell_size, cell_size]).type(torch.FloatTensor).to(device)\n",
    "    shape = torch.tensor([H, W]).type(torch.FloatTensor).to(device)\n",
    "    # compute the center pixel of every cell in the image\n",
    "\n",
    "    coor_cells = torch.stack(torch.meshgrid(torch.arange(Hc), torch.arange(Wc)), dim=2)\n",
    "    coor_cells = coor_cells.type(torch.FloatTensor).to(device)\n",
    "    coor_cells = coor_cells * cell_size + cell_size // 2\n",
    "    ## coord_cells is now a grid containing the coordinates of the Hc x Wc\n",
    "    ## center pixels of the 8x8 cells of the image\n",
    "\n",
    "    # coor_cells = coor_cells.view([-1, Hc, Wc, 1, 1, 2])\n",
    "    coor_cells = coor_cells.view([-1, 1, 1, Hc, Wc, 2])  # be careful of the order\n",
    "    # warped_coor_cells = warp_points(coor_cells.view([-1, 2]), homographies, device)\n",
    "    warped_coor_cells = normPts(coor_cells.view([-1, 2]), shape)\n",
    "    warped_coor_cells = torch.stack((warped_coor_cells[:,1], warped_coor_cells[:,0]), dim=1) # (y, x) to (x, y)\n",
    "    warped_coor_cells = warp_points(warped_coor_cells, homographies, device)\n",
    "\n",
    "    warped_coor_cells = torch.stack((warped_coor_cells[:, 1], warped_coor_cells[:, 0]), dim=1)  # (batch, x, y) to (batch, y, x)\n",
    "\n",
    "    shape_cell = torch.tensor([H//cell_size, W//cell_size]).type(torch.FloatTensor).to(device)\n",
    "    # warped_coor_mask = denormPts(warped_coor_cells, shape_cell)\n",
    "\n",
    "    warped_coor_cells = denormPts(warped_coor_cells, shape)\n",
    "    # warped_coor_cells = warped_coor_cells.view([-1, 1, 1, Hc, Wc, 2])\n",
    "    warped_coor_cells = warped_coor_cells.view([-1, Hc, Wc, 1, 1, 2])\n",
    "#     print(\"warped_coor_cells: \", warped_coor_cells.shape)\n",
    "    # compute the pairwise distance\n",
    "    cell_distances = coor_cells - warped_coor_cells\n",
    "    cell_distances = torch.norm(cell_distances, dim=-1)\n",
    "    ##### check\n",
    "#     print(\"descriptor_dist: \", descriptor_dist)\n",
    "    mask = cell_distances <= 8 # 0.5 # trick\n",
    "\n",
    "    mask = mask.type(torch.FloatTensor).to(device)\n",
    "mask\n",
    "print(torch.min(cell_distances))\n",
    "# compute the pairwise dot product between descriptors: d^t * d\n",
    "# descriptors = descriptors.transpose(1, 2).transpose(2, 3)\n",
    "# descriptors = descriptors.view((batch_size, Hc, Wc, 1, 1, -1))\n",
    "# descriptors_warped = descriptors_warped.transpose(1, 2).transpose(2, 3)\n",
    "# descriptors_warped = descriptors_warped.view((batch_size, 1, 1, Hc, Wc, -1))\n",
    "# dot_product_desc = descriptors * descriptors_warped\n",
    "# dot_product_desc = dot_product_desc.sum(dim=-1)"
   ]
  }
 ],
 "metadata": {
  "kernelspec": {
   "display_name": "py38",
   "language": "python",
   "name": "python3"
  },
  "language_info": {
   "codemirror_mode": {
    "name": "ipython",
    "version": 3
   },
   "file_extension": ".py",
   "mimetype": "text/x-python",
   "name": "python",
   "nbconvert_exporter": "python",
   "pygments_lexer": "ipython3",
   "version": "3.8.16"
  },
  "orig_nbformat": 4
 },
 "nbformat": 4,
 "nbformat_minor": 2
}
